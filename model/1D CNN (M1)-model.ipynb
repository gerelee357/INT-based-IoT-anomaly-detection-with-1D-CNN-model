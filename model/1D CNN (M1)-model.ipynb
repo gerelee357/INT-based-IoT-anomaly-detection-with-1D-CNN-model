{
 "cells": [
  {
   "cell_type": "markdown",
   "id": "21c4a42e",
   "metadata": {},
   "source": [
    "# 1D CNN (M1)\n",
    "\n"
   ]
  },
  {
   "cell_type": "markdown",
   "id": "d9865c84",
   "metadata": {},
   "source": [
    "## Importing modules"
   ]
  },
  {
   "cell_type": "code",
   "execution_count": 27,
   "id": "17381c79",
   "metadata": {},
   "outputs": [],
   "source": [
    "from numpy import mean\n",
    "from numpy import std\n",
    "from numpy import dstack\n",
    "from numpy import array\n",
    "import pandas\n",
    "from pandas import read_csv\n",
    "from matplotlib import pyplot\n",
    "from tensorflow.keras.models import Sequential\n",
    "from tensorflow.keras.layers import Dense\n",
    "from tensorflow.keras.layers import Flatten\n",
    "from tensorflow.keras.optimizers import SGD\n",
    "from tensorflow.keras.layers import Dropout\n",
    "from tensorflow.keras.callbacks import EarlyStopping\n",
    "from tensorflow.keras.utils import to_categorical\n",
    "from sklearn.model_selection import train_test_split\n",
    "from sklearn.preprocessing import MinMaxScaler, RobustScaler\n",
    "from sklearn.metrics import accuracy_score, precision_score, recall_score, recall_score, cohen_kappa_score, roc_auc_score, confusion_matrix\n",
    "from tensorflow.keras.layers import LSTM\n",
    "import keras\n",
    "from tensorflow.keras.models import Model\n",
    "from tensorflow.keras.layers import Conv1D, Convolution1D, ZeroPadding1D, MaxPooling1D, AveragePooling1D, BatchNormalization, Activation, Dropout, Flatten, Dense\n",
    "from sklearn.metrics import confusion_matrix,accuracy_score,precision_score,recall_score, matthews_corrcoef, f1_score\n",
    "from sklearn.metrics import classification_report\n",
    "from tensorflow.keras.optimizers import Adam\n",
    "from tensorflow.keras.optimizers import Adadelta\n",
    "from tensorflow.keras.optimizers import Nadam\n",
    "import time\n",
    "import numpy as np\n",
    "\n",
    "from matplotlib import pyplot as plt"
   ]
  },
  {
   "cell_type": "markdown",
   "id": "eb0c268f",
   "metadata": {},
   "source": [
    "## Importing DataSet"
   ]
  },
  {
   "cell_type": "code",
   "execution_count": 28,
   "id": "6a21b1fb",
   "metadata": {},
   "outputs": [],
   "source": [
    "# Read the CSV file into a pandas DataFrame\n",
    "\n",
    "dataframe = pandas.read_csv(\"/home/gerel/Documents/11.DataSet/Datasets_with_port_protocol_project2/ddos_dataset.csv\")\n"
   ]
  },
  {
   "cell_type": "markdown",
   "id": "2967358d",
   "metadata": {},
   "source": [
    "## Exploring DataSet"
   ]
  },
  {
   "cell_type": "code",
   "execution_count": 29,
   "id": "5dbd4d7f",
   "metadata": {},
   "outputs": [
    {
     "data": {
      "text/html": [
       "<div>\n",
       "<style scoped>\n",
       "    .dataframe tbody tr th:only-of-type {\n",
       "        vertical-align: middle;\n",
       "    }\n",
       "\n",
       "    .dataframe tbody tr th {\n",
       "        vertical-align: top;\n",
       "    }\n",
       "\n",
       "    .dataframe thead th {\n",
       "        text-align: right;\n",
       "    }\n",
       "</style>\n",
       "<table border=\"1\" class=\"dataframe\">\n",
       "  <thead>\n",
       "    <tr style=\"text-align: right;\">\n",
       "      <th></th>\n",
       "      <th>Unnamed: 0</th>\n",
       "      <th>sw11</th>\n",
       "      <th>sw22</th>\n",
       "      <th>sw12</th>\n",
       "      <th>flow_stat</th>\n",
       "      <th>Protocol</th>\n",
       "      <th>source_port</th>\n",
       "      <th>label</th>\n",
       "    </tr>\n",
       "  </thead>\n",
       "  <tbody>\n",
       "    <tr>\n",
       "      <th>0</th>\n",
       "      <td>0</td>\n",
       "      <td>321.464040</td>\n",
       "      <td>276.665291</td>\n",
       "      <td>330.655584</td>\n",
       "      <td>935.549686</td>\n",
       "      <td>17</td>\n",
       "      <td>40423</td>\n",
       "      <td>0</td>\n",
       "    </tr>\n",
       "    <tr>\n",
       "      <th>1</th>\n",
       "      <td>1</td>\n",
       "      <td>309.711011</td>\n",
       "      <td>229.390828</td>\n",
       "      <td>276.175688</td>\n",
       "      <td>820.130424</td>\n",
       "      <td>17</td>\n",
       "      <td>40423</td>\n",
       "      <td>0</td>\n",
       "    </tr>\n",
       "    <tr>\n",
       "      <th>2</th>\n",
       "      <td>2</td>\n",
       "      <td>388.028008</td>\n",
       "      <td>265.059110</td>\n",
       "      <td>351.008062</td>\n",
       "      <td>1006.247528</td>\n",
       "      <td>17</td>\n",
       "      <td>40423</td>\n",
       "      <td>0</td>\n",
       "    </tr>\n",
       "    <tr>\n",
       "      <th>3</th>\n",
       "      <td>3</td>\n",
       "      <td>351.443368</td>\n",
       "      <td>260.581250</td>\n",
       "      <td>346.263900</td>\n",
       "      <td>963.385626</td>\n",
       "      <td>17</td>\n",
       "      <td>40423</td>\n",
       "      <td>0</td>\n",
       "    </tr>\n",
       "    <tr>\n",
       "      <th>4</th>\n",
       "      <td>4</td>\n",
       "      <td>312.260013</td>\n",
       "      <td>242.773740</td>\n",
       "      <td>297.274629</td>\n",
       "      <td>846.970095</td>\n",
       "      <td>17</td>\n",
       "      <td>40423</td>\n",
       "      <td>0</td>\n",
       "    </tr>\n",
       "    <tr>\n",
       "      <th>...</th>\n",
       "      <td>...</td>\n",
       "      <td>...</td>\n",
       "      <td>...</td>\n",
       "      <td>...</td>\n",
       "      <td>...</td>\n",
       "      <td>...</td>\n",
       "      <td>...</td>\n",
       "      <td>...</td>\n",
       "    </tr>\n",
       "    <tr>\n",
       "      <th>104541</th>\n",
       "      <td>104541</td>\n",
       "      <td>224.340118</td>\n",
       "      <td>119.928015</td>\n",
       "      <td>186.242752</td>\n",
       "      <td>526.839055</td>\n",
       "      <td>17</td>\n",
       "      <td>40423</td>\n",
       "      <td>1</td>\n",
       "    </tr>\n",
       "    <tr>\n",
       "      <th>104542</th>\n",
       "      <td>104542</td>\n",
       "      <td>415.201915</td>\n",
       "      <td>200.064020</td>\n",
       "      <td>548.021813</td>\n",
       "      <td>1159.145286</td>\n",
       "      <td>17</td>\n",
       "      <td>40423</td>\n",
       "      <td>1</td>\n",
       "    </tr>\n",
       "    <tr>\n",
       "      <th>104543</th>\n",
       "      <td>104543</td>\n",
       "      <td>463.785312</td>\n",
       "      <td>188.559746</td>\n",
       "      <td>489.979829</td>\n",
       "      <td>1136.569711</td>\n",
       "      <td>17</td>\n",
       "      <td>40423</td>\n",
       "      <td>1</td>\n",
       "    </tr>\n",
       "    <tr>\n",
       "      <th>104544</th>\n",
       "      <td>104544</td>\n",
       "      <td>370.268584</td>\n",
       "      <td>167.753758</td>\n",
       "      <td>498.700647</td>\n",
       "      <td>1044.880801</td>\n",
       "      <td>17</td>\n",
       "      <td>40423</td>\n",
       "      <td>1</td>\n",
       "    </tr>\n",
       "    <tr>\n",
       "      <th>104545</th>\n",
       "      <td>104545</td>\n",
       "      <td>249.949917</td>\n",
       "      <td>136.780967</td>\n",
       "      <td>215.209463</td>\n",
       "      <td>609.887321</td>\n",
       "      <td>17</td>\n",
       "      <td>40423</td>\n",
       "      <td>1</td>\n",
       "    </tr>\n",
       "  </tbody>\n",
       "</table>\n",
       "<p>104546 rows × 8 columns</p>\n",
       "</div>"
      ],
      "text/plain": [
       "        Unnamed: 0        sw11        sw22        sw12    flow_stat  Protocol  \\\n",
       "0                0  321.464040  276.665291  330.655584   935.549686        17   \n",
       "1                1  309.711011  229.390828  276.175688   820.130424        17   \n",
       "2                2  388.028008  265.059110  351.008062  1006.247528        17   \n",
       "3                3  351.443368  260.581250  346.263900   963.385626        17   \n",
       "4                4  312.260013  242.773740  297.274629   846.970095        17   \n",
       "...            ...         ...         ...         ...          ...       ...   \n",
       "104541      104541  224.340118  119.928015  186.242752   526.839055        17   \n",
       "104542      104542  415.201915  200.064020  548.021813  1159.145286        17   \n",
       "104543      104543  463.785312  188.559746  489.979829  1136.569711        17   \n",
       "104544      104544  370.268584  167.753758  498.700647  1044.880801        17   \n",
       "104545      104545  249.949917  136.780967  215.209463   609.887321        17   \n",
       "\n",
       "        source_port  label  \n",
       "0             40423      0  \n",
       "1             40423      0  \n",
       "2             40423      0  \n",
       "3             40423      0  \n",
       "4             40423      0  \n",
       "...             ...    ...  \n",
       "104541        40423      1  \n",
       "104542        40423      1  \n",
       "104543        40423      1  \n",
       "104544        40423      1  \n",
       "104545        40423      1  \n",
       "\n",
       "[104546 rows x 8 columns]"
      ]
     },
     "execution_count": 29,
     "metadata": {},
     "output_type": "execute_result"
    }
   ],
   "source": [
    "dataframe\n"
   ]
  },
  {
   "cell_type": "code",
   "execution_count": 30,
   "id": "093ee9bc",
   "metadata": {},
   "outputs": [
    {
     "data": {
      "text/html": [
       "<div>\n",
       "<style scoped>\n",
       "    .dataframe tbody tr th:only-of-type {\n",
       "        vertical-align: middle;\n",
       "    }\n",
       "\n",
       "    .dataframe tbody tr th {\n",
       "        vertical-align: top;\n",
       "    }\n",
       "\n",
       "    .dataframe thead th {\n",
       "        text-align: right;\n",
       "    }\n",
       "</style>\n",
       "<table border=\"1\" class=\"dataframe\">\n",
       "  <thead>\n",
       "    <tr style=\"text-align: right;\">\n",
       "      <th></th>\n",
       "      <th>Unnamed: 0</th>\n",
       "      <th>sw11</th>\n",
       "      <th>sw22</th>\n",
       "      <th>sw12</th>\n",
       "      <th>flow_stat</th>\n",
       "      <th>Protocol</th>\n",
       "      <th>source_port</th>\n",
       "      <th>label</th>\n",
       "    </tr>\n",
       "  </thead>\n",
       "  <tbody>\n",
       "    <tr>\n",
       "      <th>0</th>\n",
       "      <td>0</td>\n",
       "      <td>321.464040</td>\n",
       "      <td>276.665291</td>\n",
       "      <td>330.655584</td>\n",
       "      <td>935.549686</td>\n",
       "      <td>17</td>\n",
       "      <td>40423</td>\n",
       "      <td>0</td>\n",
       "    </tr>\n",
       "    <tr>\n",
       "      <th>1</th>\n",
       "      <td>1</td>\n",
       "      <td>309.711011</td>\n",
       "      <td>229.390828</td>\n",
       "      <td>276.175688</td>\n",
       "      <td>820.130424</td>\n",
       "      <td>17</td>\n",
       "      <td>40423</td>\n",
       "      <td>0</td>\n",
       "    </tr>\n",
       "    <tr>\n",
       "      <th>2</th>\n",
       "      <td>2</td>\n",
       "      <td>388.028008</td>\n",
       "      <td>265.059110</td>\n",
       "      <td>351.008062</td>\n",
       "      <td>1006.247528</td>\n",
       "      <td>17</td>\n",
       "      <td>40423</td>\n",
       "      <td>0</td>\n",
       "    </tr>\n",
       "    <tr>\n",
       "      <th>3</th>\n",
       "      <td>3</td>\n",
       "      <td>351.443368</td>\n",
       "      <td>260.581250</td>\n",
       "      <td>346.263900</td>\n",
       "      <td>963.385626</td>\n",
       "      <td>17</td>\n",
       "      <td>40423</td>\n",
       "      <td>0</td>\n",
       "    </tr>\n",
       "    <tr>\n",
       "      <th>4</th>\n",
       "      <td>4</td>\n",
       "      <td>312.260013</td>\n",
       "      <td>242.773740</td>\n",
       "      <td>297.274629</td>\n",
       "      <td>846.970095</td>\n",
       "      <td>17</td>\n",
       "      <td>40423</td>\n",
       "      <td>0</td>\n",
       "    </tr>\n",
       "  </tbody>\n",
       "</table>\n",
       "</div>"
      ],
      "text/plain": [
       "   Unnamed: 0        sw11        sw22        sw12    flow_stat  Protocol  \\\n",
       "0           0  321.464040  276.665291  330.655584   935.549686        17   \n",
       "1           1  309.711011  229.390828  276.175688   820.130424        17   \n",
       "2           2  388.028008  265.059110  351.008062  1006.247528        17   \n",
       "3           3  351.443368  260.581250  346.263900   963.385626        17   \n",
       "4           4  312.260013  242.773740  297.274629   846.970095        17   \n",
       "\n",
       "   source_port  label  \n",
       "0        40423      0  \n",
       "1        40423      0  \n",
       "2        40423      0  \n",
       "3        40423      0  \n",
       "4        40423      0  "
      ]
     },
     "execution_count": 30,
     "metadata": {},
     "output_type": "execute_result"
    }
   ],
   "source": [
    "dataframe.head()"
   ]
  },
  {
   "cell_type": "code",
   "execution_count": 31,
   "id": "62b68b6e",
   "metadata": {},
   "outputs": [
    {
     "data": {
      "text/html": [
       "<div>\n",
       "<style scoped>\n",
       "    .dataframe tbody tr th:only-of-type {\n",
       "        vertical-align: middle;\n",
       "    }\n",
       "\n",
       "    .dataframe tbody tr th {\n",
       "        vertical-align: top;\n",
       "    }\n",
       "\n",
       "    .dataframe thead th {\n",
       "        text-align: right;\n",
       "    }\n",
       "</style>\n",
       "<table border=\"1\" class=\"dataframe\">\n",
       "  <thead>\n",
       "    <tr style=\"text-align: right;\">\n",
       "      <th></th>\n",
       "      <th>Unnamed: 0</th>\n",
       "      <th>sw11</th>\n",
       "      <th>sw22</th>\n",
       "      <th>sw12</th>\n",
       "      <th>flow_stat</th>\n",
       "      <th>Protocol</th>\n",
       "      <th>source_port</th>\n",
       "      <th>label</th>\n",
       "    </tr>\n",
       "  </thead>\n",
       "  <tbody>\n",
       "    <tr>\n",
       "      <th>count</th>\n",
       "      <td>104546.000000</td>\n",
       "      <td>104546.000000</td>\n",
       "      <td>104546.000000</td>\n",
       "      <td>104546.000000</td>\n",
       "      <td>104546.000000</td>\n",
       "      <td>104546.0</td>\n",
       "      <td>104546.0</td>\n",
       "      <td>104546.000000</td>\n",
       "    </tr>\n",
       "    <tr>\n",
       "      <th>mean</th>\n",
       "      <td>52272.500000</td>\n",
       "      <td>352.201907</td>\n",
       "      <td>237.309224</td>\n",
       "      <td>336.714896</td>\n",
       "      <td>923.701285</td>\n",
       "      <td>17.0</td>\n",
       "      <td>40423.0</td>\n",
       "      <td>0.299973</td>\n",
       "    </tr>\n",
       "    <tr>\n",
       "      <th>std</th>\n",
       "      <td>30179.974959</td>\n",
       "      <td>120.119222</td>\n",
       "      <td>55.028820</td>\n",
       "      <td>132.239182</td>\n",
       "      <td>260.484403</td>\n",
       "      <td>0.0</td>\n",
       "      <td>0.0</td>\n",
       "      <td>0.458248</td>\n",
       "    </tr>\n",
       "    <tr>\n",
       "      <th>min</th>\n",
       "      <td>0.000000</td>\n",
       "      <td>152.000000</td>\n",
       "      <td>103.100000</td>\n",
       "      <td>123.400000</td>\n",
       "      <td>3.000000</td>\n",
       "      <td>17.0</td>\n",
       "      <td>40423.0</td>\n",
       "      <td>0.000000</td>\n",
       "    </tr>\n",
       "    <tr>\n",
       "      <th>25%</th>\n",
       "      <td>26136.250000</td>\n",
       "      <td>303.148858</td>\n",
       "      <td>207.814786</td>\n",
       "      <td>281.793079</td>\n",
       "      <td>819.361461</td>\n",
       "      <td>17.0</td>\n",
       "      <td>40423.0</td>\n",
       "      <td>0.000000</td>\n",
       "    </tr>\n",
       "    <tr>\n",
       "      <th>50%</th>\n",
       "      <td>52272.500000</td>\n",
       "      <td>329.773026</td>\n",
       "      <td>247.161254</td>\n",
       "      <td>323.476374</td>\n",
       "      <td>909.569716</td>\n",
       "      <td>17.0</td>\n",
       "      <td>40423.0</td>\n",
       "      <td>0.000000</td>\n",
       "    </tr>\n",
       "    <tr>\n",
       "      <th>75%</th>\n",
       "      <td>78408.750000</td>\n",
       "      <td>378.003544</td>\n",
       "      <td>271.343743</td>\n",
       "      <td>349.905167</td>\n",
       "      <td>1001.550422</td>\n",
       "      <td>17.0</td>\n",
       "      <td>40423.0</td>\n",
       "      <td>1.000000</td>\n",
       "    </tr>\n",
       "    <tr>\n",
       "      <th>max</th>\n",
       "      <td>104545.000000</td>\n",
       "      <td>1445.842000</td>\n",
       "      <td>474.158000</td>\n",
       "      <td>1942.632000</td>\n",
       "      <td>2963.550000</td>\n",
       "      <td>17.0</td>\n",
       "      <td>40423.0</td>\n",
       "      <td>1.000000</td>\n",
       "    </tr>\n",
       "  </tbody>\n",
       "</table>\n",
       "</div>"
      ],
      "text/plain": [
       "          Unnamed: 0           sw11           sw22           sw12  \\\n",
       "count  104546.000000  104546.000000  104546.000000  104546.000000   \n",
       "mean    52272.500000     352.201907     237.309224     336.714896   \n",
       "std     30179.974959     120.119222      55.028820     132.239182   \n",
       "min         0.000000     152.000000     103.100000     123.400000   \n",
       "25%     26136.250000     303.148858     207.814786     281.793079   \n",
       "50%     52272.500000     329.773026     247.161254     323.476374   \n",
       "75%     78408.750000     378.003544     271.343743     349.905167   \n",
       "max    104545.000000    1445.842000     474.158000    1942.632000   \n",
       "\n",
       "           flow_stat  Protocol  source_port          label  \n",
       "count  104546.000000  104546.0     104546.0  104546.000000  \n",
       "mean      923.701285      17.0      40423.0       0.299973  \n",
       "std       260.484403       0.0          0.0       0.458248  \n",
       "min         3.000000      17.0      40423.0       0.000000  \n",
       "25%       819.361461      17.0      40423.0       0.000000  \n",
       "50%       909.569716      17.0      40423.0       0.000000  \n",
       "75%      1001.550422      17.0      40423.0       1.000000  \n",
       "max      2963.550000      17.0      40423.0       1.000000  "
      ]
     },
     "execution_count": 31,
     "metadata": {},
     "output_type": "execute_result"
    }
   ],
   "source": [
    "dataframe.describe()"
   ]
  },
  {
   "cell_type": "markdown",
   "id": "31a8417f",
   "metadata": {},
   "source": [
    "## Data Preprocessing and Feature-Label Extraction"
   ]
  },
  {
   "cell_type": "code",
   "execution_count": 32,
   "id": "51d7a159",
   "metadata": {},
   "outputs": [],
   "source": [
    "# Check the shape of the dataset\n",
    "dataset.shape\n",
    "\n",
    "# Extract the features (X) and labels (Y) from the DataFrame\n",
    "# X contains all rows and all columns except the last column\n",
    "X = dataframe.iloc[:, :-1]\n",
    "\n",
    "# Y contains all rows and only the last column\n",
    "Y = dataframe.iloc[:, -1]\n",
    "\n",
    "# Convert Y (labels) to categorical values using one-hot encoding\n",
    "Y = to_categorical(Y)\n",
    "\n",
    "# Convert X to a numpy array\n",
    "X = array(X[:])"
   ]
  },
  {
   "cell_type": "markdown",
   "id": "a531dec3",
   "metadata": {},
   "source": [
    "## Feature Scaling and Transformation."
   ]
  },
  {
   "cell_type": "code",
   "execution_count": 33,
   "id": "7971108b",
   "metadata": {},
   "outputs": [],
   "source": [
    "# Initialize a RobustScaler object\n",
    "scaler = RobustScaler()\n",
    "\n",
    "# Fit the scaler to the data (X) and transform the data using the RobustScaler\n",
    "X = scaler.fit_transform(X)"
   ]
  },
  {
   "cell_type": "markdown",
   "id": "864d80c2",
   "metadata": {},
   "source": [
    "## Data Splitting for Training and Testing."
   ]
  },
  {
   "cell_type": "code",
   "execution_count": 34,
   "id": "f33a6db2",
   "metadata": {},
   "outputs": [
    {
     "data": {
      "text/plain": [
       "'This line of code uses train_test_split from Scikit-learn to divide the dataset (X and Y) into training and testing sets. It assigns 70% of the data to training (X_train and y_train) and 30% to testing (X_test and y_test). \\nThe random_state parameter ensures that the data split is reproducible.'"
      ]
     },
     "execution_count": 34,
     "metadata": {},
     "output_type": "execute_result"
    }
   ],
   "source": [
    "# Split the dataset into training and testing sets\n",
    "# X_train and X_test are the training and testing features, respectively\n",
    "# y_train and y_test are the corresponding training and testing labels, respectively\n",
    "# The test_size parameter determines the proportion of the dataset used for testing (in this case, 30%)\n",
    "# The random_state parameter ensures reproducibility of the split\n",
    "\n",
    "X_train, X_test, y_train, y_test = train_test_split(X, Y, test_size=0.3, random_state=109)\n",
    "\n",
    "'''This line of code uses train_test_split from Scikit-learn to divide the dataset (X and Y) into training and testing sets. It assigns 70% of the data to training (X_train and y_train) and 30% to testing (X_test and y_test). \n",
    "The random_state parameter ensures that the data split is reproducible.'''"
   ]
  },
  {
   "cell_type": "code",
   "execution_count": 35,
   "id": "471343ba",
   "metadata": {},
   "outputs": [
    {
     "data": {
      "text/plain": [
       "(73182, 7)"
      ]
     },
     "execution_count": 35,
     "metadata": {},
     "output_type": "execute_result"
    }
   ],
   "source": [
    "X_train.shape"
   ]
  },
  {
   "cell_type": "markdown",
   "id": "89106565",
   "metadata": {},
   "source": [
    "## Data Reshaping for Convolutional Neural Network (Conv1D) Input"
   ]
  },
  {
   "cell_type": "code",
   "execution_count": 36,
   "id": "9b448b8a",
   "metadata": {},
   "outputs": [],
   "source": [
    "# Reshape the training and testing features for compatibility with Conv1D model\n",
    "# X_train is reshaped to have dimensions (samples, features, 1)\n",
    "X_train = X_train.reshape(X_train.shape[0], X_train.shape[1], 1)\n",
    "\n",
    "# X_test is reshaped to have dimensions (samples, features, 1)\n",
    "X_test = X_test.reshape(X_test.shape[0], X_test.shape[1], 1)\n",
    "\n"
   ]
  },
  {
   "cell_type": "code",
   "execution_count": 37,
   "id": "a7a555e7",
   "metadata": {},
   "outputs": [
    {
     "data": {
      "text/plain": [
       "(73182, 7, 1)"
      ]
     },
     "execution_count": 37,
     "metadata": {},
     "output_type": "execute_result"
    }
   ],
   "source": [
    " X_train.shape\n"
   ]
  },
  {
   "cell_type": "code",
   "execution_count": 38,
   "id": "521604a2",
   "metadata": {},
   "outputs": [
    {
     "data": {
      "text/plain": [
       "31364"
      ]
     },
     "execution_count": 38,
     "metadata": {},
     "output_type": "execute_result"
    }
   ],
   "source": [
    " X_test.shape[0]"
   ]
  },
  {
   "cell_type": "code",
   "execution_count": 39,
   "id": "14806979",
   "metadata": {},
   "outputs": [
    {
     "data": {
      "text/plain": [
       "7"
      ]
     },
     "execution_count": 39,
     "metadata": {},
     "output_type": "execute_result"
    }
   ],
   "source": [
    "X_train.shape[1]  #- number of features"
   ]
  },
  {
   "cell_type": "markdown",
   "id": "a7f3ef0f",
   "metadata": {},
   "source": [
    "## Model Architecture Definition"
   ]
  },
  {
   "cell_type": "code",
   "execution_count": 40,
   "id": "30e3e8f7",
   "metadata": {},
   "outputs": [],
   "source": [
    "# Create a Sequential model\n",
    "model = Sequential()\n",
    "\n",
    "# Define input shape for the first layer based on the input data\n",
    "layer0_input = (X_train.shape[1], 1)\n",
    "\n",
    "# Add a 1D convolutional layer with 8 filters, kernel size of 3, using ReLU activation\n",
    "model.add(Conv1D(filters=8, kernel_size=3, padding='valid', activation='relu', input_shape=layer0_input))\n",
    "\n",
    "# Add another 1D convolutional layer with 8 filters, kernel size of 2, using ReLU activation\n",
    "model.add(Conv1D(8, 2, padding='valid', activation='relu'))\n",
    "\n",
    "# Add one more 1D convolutional layer with 8 filters, kernel size of 2, using ReLU activation\n",
    "model.add(Conv1D(8, 2, padding='valid', activation='relu'))\n",
    "\n",
    "# Flatten the output of the convolutional layers\n",
    "layer4_flatten = model.add(Flatten())\n",
    "\n",
    "# Add a dense layer with 16 neurons and ReLU activation\n",
    "layer5_dense = model.add(Dense(16, activation='relu'))\n",
    "\n",
    "# Add a Dropout layer with 20% dropout rate to prevent overfitting\n",
    "layer6_Dropout = model.add(Dropout(0.2))\n",
    "\n",
    "# Add a final dense layer with 2 neurons for classification using softmax activation\n",
    "model.add(Dense(2, activation='softmax'))\n",
    "\n",
    "\n",
    "\n",
    "\n",
    "\n",
    "\n"
   ]
  },
  {
   "cell_type": "code",
   "execution_count": 41,
   "id": "9d5cd8b1",
   "metadata": {},
   "outputs": [
    {
     "name": "stdout",
     "output_type": "stream",
     "text": [
      "Model: \"sequential_2\"\n",
      "_________________________________________________________________\n",
      "Layer (type)                 Output Shape              Param #   \n",
      "=================================================================\n",
      "conv1d_6 (Conv1D)            (None, 5, 8)              32        \n",
      "_________________________________________________________________\n",
      "conv1d_7 (Conv1D)            (None, 4, 8)              136       \n",
      "_________________________________________________________________\n",
      "conv1d_8 (Conv1D)            (None, 3, 8)              136       \n",
      "_________________________________________________________________\n",
      "flatten_2 (Flatten)          (None, 24)                0         \n",
      "_________________________________________________________________\n",
      "dense_4 (Dense)              (None, 16)                400       \n",
      "_________________________________________________________________\n",
      "dropout_2 (Dropout)          (None, 16)                0         \n",
      "_________________________________________________________________\n",
      "dense_5 (Dense)              (None, 2)                 34        \n",
      "=================================================================\n",
      "Total params: 738\n",
      "Trainable params: 738\n",
      "Non-trainable params: 0\n",
      "_________________________________________________________________\n"
     ]
    }
   ],
   "source": [
    "model.summary()"
   ]
  },
  {
   "cell_type": "markdown",
   "id": "2575340c",
   "metadata": {},
   "source": [
    "## Model Hyperparameters Configuration"
   ]
  },
  {
   "cell_type": "code",
   "execution_count": 42,
   "id": "9f2ba9b7",
   "metadata": {},
   "outputs": [],
   "source": [
    "epoch= 18\n",
    "batch_size= 128\n",
    "learning_rate=0.001"
   ]
  },
  {
   "cell_type": "markdown",
   "id": "18d90936",
   "metadata": {},
   "source": [
    "## Model Compilation and Configuration"
   ]
  },
  {
   "cell_type": "code",
   "execution_count": 43,
   "id": "8bb16a43",
   "metadata": {},
   "outputs": [],
   "source": [
    "# Initialize the Adam optimizer with a specific learning rate\n",
    "adam = Adam(learning_rate=learning_rate)\n",
    "\n",
    "# Compile the model with binary cross-entropy loss for binary classification\n",
    "# Using the Adam optimizer initialized above and tracking accuracy as a metric\n",
    "model.compile(loss='binary_crossentropy', optimizer='adam', metrics=['accuracy'])\n",
    "\n"
   ]
  },
  {
   "cell_type": "markdown",
   "id": "8735bf87",
   "metadata": {},
   "source": [
    "## Training the Model with Early Stopping"
   ]
  },
  {
   "cell_type": "code",
   "execution_count": 44,
   "id": "ba3af0b7",
   "metadata": {},
   "outputs": [
    {
     "name": "stdout",
     "output_type": "stream",
     "text": [
      "Epoch 1/18\n",
      "401/401 [==============================] - 25s 60ms/step - loss: 0.1968 - accuracy: 0.9586 - val_loss: 0.0187 - val_accuracy: 0.9967\n",
      "Epoch 2/18\n",
      "401/401 [==============================] - 28s 69ms/step - loss: 0.0204 - accuracy: 0.9959 - val_loss: 0.0113 - val_accuracy: 0.9976\n",
      "Epoch 3/18\n",
      "401/401 [==============================] - 26s 66ms/step - loss: 0.0133 - accuracy: 0.9974 - val_loss: 0.0073 - val_accuracy: 0.9980\n",
      "Epoch 4/18\n",
      "401/401 [==============================] - 27s 68ms/step - loss: 0.0095 - accuracy: 0.9980 - val_loss: 0.0046 - val_accuracy: 0.9988\n",
      "Epoch 5/18\n",
      "401/401 [==============================] - 27s 67ms/step - loss: 0.0066 - accuracy: 0.9985 - val_loss: 0.0035 - val_accuracy: 0.9994\n",
      "Epoch 6/18\n",
      "401/401 [==============================] - 26s 65ms/step - loss: 0.0053 - accuracy: 0.9987 - val_loss: 0.0023 - val_accuracy: 0.9995\n",
      "Epoch 7/18\n",
      "401/401 [==============================] - 26s 65ms/step - loss: 0.0037 - accuracy: 0.9990 - val_loss: 0.0016 - val_accuracy: 0.9995\n",
      "Epoch 8/18\n",
      "401/401 [==============================] - 26s 65ms/step - loss: 0.0030 - accuracy: 0.9993 - val_loss: 9.8156e-04 - val_accuracy: 0.9997\n",
      "Epoch 9/18\n",
      "401/401 [==============================] - 25s 62ms/step - loss: 0.0022 - accuracy: 0.9994 - val_loss: 9.0514e-04 - val_accuracy: 0.9997\n",
      "Epoch 10/18\n",
      "401/401 [==============================] - 13s 33ms/step - loss: 0.0018 - accuracy: 0.9995 - val_loss: 5.4586e-04 - val_accuracy: 0.9999\n",
      "Epoch 11/18\n",
      "401/401 [==============================] - 25s 63ms/step - loss: 0.0015 - accuracy: 0.9997 - val_loss: 4.5992e-04 - val_accuracy: 0.9998\n",
      "Epoch 12/18\n",
      "401/401 [==============================] - 24s 60ms/step - loss: 0.0016 - accuracy: 0.9996 - val_loss: 6.9914e-04 - val_accuracy: 0.9998\n",
      "Epoch 13/18\n",
      "401/401 [==============================] - 26s 65ms/step - loss: 0.0011 - accuracy: 0.9997 - val_loss: 2.5899e-04 - val_accuracy: 1.0000\n",
      "Epoch 14/18\n",
      "401/401 [==============================] - 22s 54ms/step - loss: 0.0013 - accuracy: 0.9997 - val_loss: 2.4345e-04 - val_accuracy: 1.0000\n",
      "Epoch 15/18\n",
      "401/401 [==============================] - 26s 65ms/step - loss: 8.9778e-04 - accuracy: 0.9998 - val_loss: 8.0056e-04 - val_accuracy: 0.9998\n",
      "Epoch 16/18\n",
      "401/401 [==============================] - 25s 62ms/step - loss: 9.6259e-04 - accuracy: 0.9998 - val_loss: 1.8618e-04 - val_accuracy: 1.0000\n"
     ]
    }
   ],
   "source": [
    "#early stopping hiihes epoch-iin toond hurehees omno zogsoj bolno\n",
    "startTime = time.time()\n",
    "history = model.fit(X_train, y_train, epochs=epoch, batch_size=batch_size, validation_split=0.3,callbacks=[EarlyStopping(monitor='val_loss', patience=3, min_delta=0.0001)]) \n"
   ]
  },
  {
   "cell_type": "code",
   "execution_count": null,
   "id": "7270ec4a",
   "metadata": {},
   "outputs": [],
   "source": [
    "## Model Evaluation and Performance Analysis"
   ]
  },
  {
   "cell_type": "code",
   "execution_count": 50,
   "id": "72b6591b",
   "metadata": {},
   "outputs": [
    {
     "name": "stdout",
     "output_type": "stream",
     "text": [
      "Accuracy: [0.0005091042839922011, 0.999808669090271]\n",
      "This Process run 978.0278453826904 seconds\n"
     ]
    }
   ],
   "source": [
    "# Evaluate the model's accuracy on the testing data\n",
    "# The model.evaluate() function computes the accuracy using the testing features (X_test) and labels (y_test)\n",
    "# The batch_size parameter determines the number of samples per gradient update\n",
    "accuracy = model.evaluate(X_test, y_test, batch_size=batch_size, verbose=0)\n",
    "\n",
    "# Print the accuracy achieved by the model on the testing data\n",
    "print('Accuracy:', accuracy)\n",
    "\n",
    "# Calculate and print the total time taken for the process to run\n",
    "# time.time() returns the current time, and startTime stores the initial time\n",
    "print(\"This Process run %s seconds\" % str(time.time() - startTime))\n"
   ]
  },
  {
   "cell_type": "markdown",
   "id": "cfed7d0e",
   "metadata": {},
   "source": [
    "## Visualization of Training and Validation Accuracy Trends"
   ]
  },
  {
   "cell_type": "code",
   "execution_count": 46,
   "id": "a59c3576",
   "metadata": {},
   "outputs": [
    {
     "data": {
      "image/png": "[encoded data removed]",
      "text/plain": [
       "<Figure size 432x288 with 1 Axes>"
      ]
     },
     "metadata": {
      "needs_background": "light"
     },
     "output_type": "display_data"
    }
   ],
   "source": [
    "# Plotting the training and validation accuracy over epochs\n",
    "\n",
    "# Plot the training accuracy stored in the 'accuracy' key of the history object\n",
    "plt.plot(history.history[\"accuracy\"], label=\"Training Accuracy\")\n",
    "\n",
    "# Plot the validation accuracy stored in the 'val_accuracy' key of the history object\n",
    "plt.plot(history.history[\"val_accuracy\"], label=\"Validation Accuracy\")\n",
    "\n",
    "# Adding a legend to the plot to differentiate between training and validation accuracy\n",
    "plt.legend()\n",
    "\n",
    "# Display the plot\n",
    "plt.show()\n",
    "\n"
   ]
  },
  {
   "cell_type": "markdown",
   "id": "4e2887d2",
   "metadata": {},
   "source": [
    "## Visualization of Training and Validation Loss Trends"
   ]
  },
  {
   "cell_type": "code",
   "execution_count": 47,
   "id": "cf753083",
   "metadata": {},
   "outputs": [
    {
     "data": {
      "image/png": "[encoded data removed]",
      "text/plain": [
       "<Figure size 432x288 with 1 Axes>"
      ]
     },
     "metadata": {
      "needs_background": "light"
     },
     "output_type": "display_data"
    }
   ],
   "source": [
    "# Plotting the training and validation loss over epochs\n",
    "\n",
    "# Plot the training loss stored in the 'loss' key of the history object\n",
    "plt.plot(history.history[\"loss\"], label=\"Training Loss\")\n",
    "\n",
    "# Plot the validation loss stored in the 'val_loss' key of the history object\n",
    "plt.plot(history.history[\"val_loss\"], label=\"Validation Loss\")\n",
    "\n",
    "# Adding a legend to the plot to differentiate between training and validation loss\n",
    "plt.legend()\n",
    "\n",
    "# Display the plot\n",
    "plt.show()\n"
   ]
  },
  {
   "cell_type": "markdown",
   "id": "5982b634",
   "metadata": {},
   "source": [
    "# Model performance evaluation"
   ]
  },
  {
   "cell_type": "code",
   "execution_count": 48,
   "id": "a9952492",
   "metadata": {},
   "outputs": [],
   "source": [
    "\n",
    "def calc(target, predicted, num_class=2):\n",
    "    # Calculate various evaluation metrics\n",
    "    Acc = accuracy_score(target, predicted)  # Accuracy\n",
    "    Pre = precision_score(target, predicted)  # Precision\n",
    "    Rec = recall_score(target, predicted)  # Recall\n",
    "    F1_Score = f1_score(target, predicted)  # F1 Score\n",
    "    MCC = matthews_corrcoef(target, predicted)  # Matthews Correlation Coefficient\n",
    "    # Generate confusion matrix as a string for display purposes\n",
    "    conf_matrix = str(confusion_matrix(target, predicted)).replace('\\n', ',')\n",
    "    # Return evaluation metrics as a NumPy array\n",
    "    return np.array([Acc, Pre, Rec, F1_Score, MCC, conf_matrix])\n",
    "\n",
    "\n",
    "\n"
   ]
  },
  {
   "cell_type": "code",
   "execution_count": 49,
   "id": "e99904cd",
   "metadata": {},
   "outputs": [
    {
     "name": "stdout",
     "output_type": "stream",
     "text": [
      "981/981 - 2s\n",
      "Acc 0.9998086978701696\n",
      "Pre 0.9997881804702393\n",
      "Rec 0.9995764506565015\n",
      "F1_Score 0.9996823043524303\n",
      "MCC 0.9995454607576147\n",
      "conf_matrix [[21918     2], [    4  9440]]\n"
     ]
    }
   ],
   "source": [
    "# Predict using the trained model on the testing data\n",
    "predicted_y = model.predict(X_test, verbose=2)\n",
    "\n",
    "# Calculate evaluation metrics using the calc function\n",
    "[Acc, Pre, Rec, F1_Score, MCC, conf_matrix] = calc(np.argmax(y_test, axis=1), np.argmax(predicted_y, axis=1))\n",
    "\n",
    "# Print evaluation metrics (converted to string for printing)\n",
    "print(\"Acc \" + str(Acc))\n",
    "print(\"Pre \" + str(Pre))\n",
    "print(\"Rec \" + str(Rec))\n",
    "print(\"F1_Score \" + str(F1_Score))\n",
    "print(\"MCC \" + str(MCC))\n",
    "print(\"conf_matrix \" + conf_matrix)\n",
    "# "
   ]
  },
  {
   "cell_type": "code",
   "execution_count": null,
   "id": "2196d1c4",
   "metadata": {},
   "outputs": [],
   "source": []
  }
 ],
 "metadata": {
  "kernelspec": {
   "display_name": "Python 3 (ipykernel)",
   "language": "python",
   "name": "python3"
  },
  "language_info": {
   "codemirror_mode": {
    "name": "ipython",
    "version": 3
   },
   "file_extension": ".py",
   "mimetype": "text/x-python",
   "name": "python",
   "nbconvert_exporter": "python",
   "pygments_lexer": "ipython3",
   "version": "3.8.8"
  }
 },
 "nbformat": 4,
 "nbformat_minor": 5
}
